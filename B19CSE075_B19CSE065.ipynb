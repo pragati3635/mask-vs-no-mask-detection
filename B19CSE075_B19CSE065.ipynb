{
  "nbformat": 4,
  "nbformat_minor": 0,
  "metadata": {
    "colab": {
      "name": "B19CSE075_B19CSE065.ipynb",
      "provenance": [],
      "collapsed_sections": [],
      "include_colab_link": true
    },
    "kernelspec": {
      "name": "python3",
      "display_name": "Python 3"
    },
    "language_info": {
      "name": "python"
    }
  },
  "cells": [
    {
      "cell_type": "markdown",
      "metadata": {
        "id": "view-in-github",
        "colab_type": "text"
      },
      "source": [
        "<a href=\"https://colab.research.google.com/github/pragati3635/mask-vs-no-mask-detection/blob/main/B19CSE075_B19CSE065.ipynb\" target=\"_parent\"><img src=\"https://colab.research.google.com/assets/colab-badge.svg\" alt=\"Open In Colab\"/></a>"
      ]
    },
    {
      "cell_type": "code",
      "metadata": {
        "id": "hH4zTQenPsG6"
      },
      "source": [
        "import numpy as np\n",
        "import PIL\n",
        "from PIL import Image\n",
        "import cv2\n",
        "from google.colab.patches import cv2_imshow\n",
        "import matplotlib.pyplot as plt\n",
        "from sklearn.model_selection import train_test_split as tts"
      ],
      "execution_count": null,
      "outputs": []
    },
    {
      "cell_type": "code",
      "metadata": {
        "id": "-vYsIPrY5RMw"
      },
      "source": [
        "from sklearn.metrics import accuracy_score\n",
        "from sklearn.metrics import f1_score\n",
        "from sklearn.metrics import log_loss\n",
        "from sklearn.model_selection import cross_val_score"
      ],
      "execution_count": null,
      "outputs": []
    },
    {
      "cell_type": "code",
      "metadata": {
        "id": "oupNuJVJiT-S"
      },
      "source": [
        "import warnings\n",
        "warnings.filterwarnings(\"ignore\")"
      ],
      "execution_count": null,
      "outputs": []
    },
    {
      "cell_type": "code",
      "metadata": {
        "id": "Qi-8OVASRdhr"
      },
      "source": [
        "w_Mask = []\n",
        "wo_Mask = []\n",
        "w_Mask_Test = []\n",
        "wo_Mask_Test = []"
      ],
      "execution_count": null,
      "outputs": []
    },
    {
      "cell_type": "code",
      "metadata": {
        "colab": {
          "base_uri": "https://localhost:8080/"
        },
        "id": "2MCo5b1WSZaK",
        "outputId": "ffb5de89-b781-4a6f-da40-7b362c9c115c"
      },
      "source": [
        "from google.colab import drive\n",
        "drive.mount('/content/drive')\n"
      ],
      "execution_count": null,
      "outputs": [
        {
          "output_type": "stream",
          "text": [
            "Drive already mounted at /content/drive; to attempt to forcibly remount, call drive.mount(\"/content/drive\", force_remount=True).\n"
          ],
          "name": "stdout"
        }
      ]
    },
    {
      "cell_type": "code",
      "metadata": {
        "id": "HkGMvMcJinhb"
      },
      "source": [
        "import glob\n",
        "import shutil\n",
        "w_Mask = []\n",
        "count=0\n",
        "dest_path = \"/content/With_mask/\"\n",
        "destination_path = \"/content/With_mask_Test/\"\n",
        "ptrn = \"/content/drive/MyDrive/AFDB_masked_face_dataset/*/*\"  \n",
        "for img in glob.glob(ptrn):\n",
        "    shutil.copy(img, dest_path)\n",
        "    w_Mask.append(str(img))\n",
        "for img in glob.glob(ptrn):\n",
        "  if(count==5):\n",
        "    break\n",
        "  shutil.copy(img, destination_path)\n",
        "  w_Mask_Test.append(str(img))\n",
        "  count+=1    "
      ],
      "execution_count": null,
      "outputs": []
    },
    {
      "cell_type": "code",
      "metadata": {
        "id": "ROq0W0vrjQLM"
      },
      "source": [
        "import glob \n",
        "import shutil\n",
        "cnt = 0\n",
        "count2=0\n",
        "wo_Mask = []   \n",
        "dest_path = \"/content/Without_mask/\"\n",
        "destination_path = \"/content/Without_mask_Test/\"\n",
        "ptrn = \"/content/drive/MyDrive/AFDB_face_dataset/*/*\"  \n",
        "for img in glob.glob(ptrn):\n",
        "  if (cnt == 5000):\n",
        "      break\n",
        "  shutil.copy(img, dest_path)\n",
        "  wo_Mask.append(str(img))\n",
        "  cnt += 1\n",
        "for img in glob.glob(ptrn):\n",
        "  if(count2==5):\n",
        "    break\n",
        "  shutil.copy(img, destination_path)\n",
        "  wo_Mask_Test.append(str(img))\n",
        "  count2+=1      "
      ],
      "execution_count": null,
      "outputs": []
    },
    {
      "cell_type": "code",
      "metadata": {
        "id": "AzQtWL7VlALf"
      },
      "source": [
        "def createdatabase(mask, no_mask):\n",
        "  dBase = []\n",
        "  label = []\n",
        "  for path in mask:\n",
        "    img = cv2.imread(path)\n",
        "    gray_img = cv2.cvtColor(img, cv2.COLOR_RGB2GRAY)\n",
        "    resized = cv2.resize(gray_img,(64, 64), interpolation=cv2.INTER_CUBIC)\n",
        "    dBase.append(resized.flatten())\n",
        "    label.append(1)\n",
        "    \n",
        "  \n",
        "  for path in no_mask:\n",
        "    img = cv2.imread(path)\n",
        "    gray_img = cv2.cvtColor(img, cv2.COLOR_RGB2GRAY)\n",
        "    resized = cv2.resize(gray_img,(64, 64), interpolation=cv2.INTER_CUBIC)\n",
        "    dBase.append(resized.flatten())\n",
        "    label.append(0)\n",
        "  \n",
        "  return dBase, label\n",
        "\n",
        "mask_data, mask_lab = createdatabase(w_Mask, wo_Mask)\n",
        "mask_data_test, mask_lab_test = createdatabase(w_Mask_Test, wo_Mask_Test)"
      ],
      "execution_count": null,
      "outputs": []
    },
    {
      "cell_type": "code",
      "metadata": {
        "id": "xPhg8icup96a"
      },
      "source": [
        "from sklearn.preprocessing import StandardScaler  \n",
        "scaler = StandardScaler()  \n",
        "scaler.fit(mask_data)  \n",
        "mask_dataset_Std = scaler.transform(mask_data) \n",
        "from sklearn.discriminant_analysis import LinearDiscriminantAnalysis as LDA\n",
        "lda = LDA()\n",
        "mask_dataset_lda = lda.fit_transform(mask_dataset_Std, mask_lab)\n"
      ],
      "execution_count": null,
      "outputs": []
    },
    {
      "cell_type": "code",
      "metadata": {
        "id": "5qVMR6qTUXqZ"
      },
      "source": [
        "\n",
        " \n",
        "mask_dataset_Std_test = scaler.transform(mask_data_test) \n",
        "\n",
        "mask_dataset_lda_test = lda.transform(mask_dataset_Std_test)\n"
      ],
      "execution_count": null,
      "outputs": []
    },
    {
      "cell_type": "code",
      "metadata": {
        "id": "VdWj7d_MUjUk"
      },
      "source": [
        "from sklearn.utils import shuffle\n",
        "\n",
        "def Shuffle(arr1, arr2):\n",
        "  arr1_shuffled, arr2_shuffled = shuffle(arr1, arr2)\n",
        "  return arr1_shuffled, arr2_shuffled\n",
        "mask_dataset_shuffle, y = Shuffle(mask_data, mask_lab)  \n",
        "\n",
        "x_train, x_test, y_train, y_test = tts(mask_dataset_shuffle, y, test_size=0.1, random_state=42)  "
      ],
      "execution_count": null,
      "outputs": []
    },
    {
      "cell_type": "code",
      "metadata": {
        "id": "GGyFrQuq368Y"
      },
      "source": [
        "mask_dataset_shuffle_lda, y_lda = Shuffle(mask_dataset_lda, mask_lab)  \n",
        "\n",
        "x_train_lda, x_test_lda, y_train_lda, y_test_lda = tts(mask_dataset_shuffle_lda, y_lda, test_size=0.1, random_state=42)"
      ],
      "execution_count": null,
      "outputs": []
    },
    {
      "cell_type": "code",
      "metadata": {
        "id": "Sd_QJzz4mUmT"
      },
      "source": [
        "model = [\"lr\",\"MLP\",\"GNB\"]\n",
        "model_accuracy = []\n",
        "model_accuracy_with_std_data = []\n",
        "model_f1_score = []\n",
        "model_f1_score_with_std_data = []\n",
        "model_cvs = []\n",
        "model_cvs_with_std_data = []"
      ],
      "execution_count": null,
      "outputs": []
    },
    {
      "cell_type": "markdown",
      "metadata": {
        "id": "7qbM46C36q7O"
      },
      "source": [
        "Logistic Regression on non-standrdized data"
      ]
    },
    {
      "cell_type": "code",
      "metadata": {
        "colab": {
          "base_uri": "https://localhost:8080/"
        },
        "id": "gq5L2WE65HAR",
        "outputId": "0123f7a7-e77c-4537-97b3-50a64a747f4b"
      },
      "source": [
        "from sklearn.linear_model import LogisticRegression\n",
        "lr = LogisticRegression()\n",
        "lr.fit(x_train,y_train)\n",
        "y_pred = lr.predict(x_test)\n",
        "scores_lr = cross_val_score(lr, x_train, y_train, cv=5)\n",
        "print(\"F1 score for non-standardize data from logistic regression :\", f1_score(y_test, y_pred))\n",
        "print(\"Accuracy for non-standardize data from logistic regression model: \", lr.score(x_test,y_test))\n",
        "print(\"CVS for non-standardize data from logistic regression model: \",scores_lr.mean())\n"
      ],
      "execution_count": null,
      "outputs": [
        {
          "output_type": "stream",
          "text": [
            "F1 score for non-standardize data from logistic regression : 0.7469879518072289\n",
            "Accuracy for non-standardize data from logistic regression model:  0.8543689320388349\n",
            "CVS for non-standardize data from logistic regression model:  0.8080852537194094\n"
          ],
          "name": "stdout"
        }
      ]
    },
    {
      "cell_type": "code",
      "metadata": {
        "id": "0FaoFJVEo5UI"
      },
      "source": [
        "model_accuracy.append(lr.score(x_test,y_test))\n",
        "model_f1_score.append(f1_score(y_test, y_pred))\n",
        "model_cvs.append(scores_lr.mean())"
      ],
      "execution_count": null,
      "outputs": []
    },
    {
      "cell_type": "markdown",
      "metadata": {
        "id": "gGRTKuRC68nt"
      },
      "source": [
        "LogisticRegression on standardized data"
      ]
    },
    {
      "cell_type": "code",
      "metadata": {
        "colab": {
          "base_uri": "https://localhost:8080/"
        },
        "id": "QinSC3AI61qv",
        "outputId": "6c9be586-b33f-4d45-9056-1ce453e644e9"
      },
      "source": [
        "lr.fit(x_train_lda,y_train_lda)\n",
        "y_pred_lda = lr.predict(x_test_lda)\n",
        "scores_lr_stand = cross_val_score(lr, x_train_lda, y_train_lda, cv=5)\n",
        "print(\"F1 score for standardize data from logistic regression :\", f1_score(y_test_lda, y_pred_lda))\n",
        "print(\"Accuracy for standardize data from logistic regression model: \", lr.score(x_test_lda,y_test_lda))\n",
        "print(\"CVS for standardize data from logistic regression model: \",scores_lr_stand.mean())"
      ],
      "execution_count": null,
      "outputs": [
        {
          "output_type": "stream",
          "text": [
            "F1 score for standardize data from logistic regression : 0.9661016949152542\n",
            "Accuracy for standardize data from logistic regression model:  0.9778085991678225\n",
            "CVS for standardize data from logistic regression model:  0.984264137563418\n"
          ],
          "name": "stdout"
        }
      ]
    },
    {
      "cell_type": "code",
      "metadata": {
        "id": "yRcQRIPOU9kc"
      },
      "source": [
        "lr_predict = lr.predict(mask_dataset_lda_test)"
      ],
      "execution_count": null,
      "outputs": []
    },
    {
      "cell_type": "code",
      "metadata": {
        "id": "CECR2JbWpaJW"
      },
      "source": [
        "model_accuracy_with_std_data.append(lr.score(x_test_lda,y_test_lda))\n",
        "model_f1_score_with_std_data.append(f1_score(y_test_lda, y_pred_lda))\n",
        "model_cvs_with_std_data.append(scores_lr_stand.mean())"
      ],
      "execution_count": null,
      "outputs": []
    },
    {
      "cell_type": "markdown",
      "metadata": {
        "id": "EKkPVzdv7ixg"
      },
      "source": [
        "MLP classifier on non standardized data"
      ]
    },
    {
      "cell_type": "code",
      "metadata": {
        "id": "SaJaI4hN60Uv",
        "colab": {
          "base_uri": "https://localhost:8080/"
        },
        "outputId": "9f5b1e43-0285-4bd9-f5dd-79e8a0e470b7"
      },
      "source": [
        "from sklearn.neural_network import MLPClassifier\n",
        "clf_mlp = MLPClassifier(random_state=42, max_iter=987)\n",
        "clf_mlp.fit(x_train, y_train)\n",
        "y_pred_mlp=clf_mlp.predict(x_test)\n",
        "scores_mlp = cross_val_score(clf_mlp, x_train, y_train, cv=5)\n",
        "print(\"F1 score for non-standardize data from MLP :\", f1_score(y_test, y_pred_mlp))\n",
        "print(\"Accuracy for non-standardize data from MLP model: \", clf_mlp.score(x_test,y_test))\n",
        "print(\"CVS for non-standardize data from MLP model: \",scores_mlp.mean())"
      ],
      "execution_count": null,
      "outputs": [
        {
          "output_type": "stream",
          "text": [
            "F1 score for non-standardize data from MLP : 0.8648648648648648\n",
            "Accuracy for non-standardize data from MLP model:  0.9237170596393898\n",
            "CVS for non-standardize data from MLP model:  0.7880207887146977\n"
          ],
          "name": "stdout"
        }
      ]
    },
    {
      "cell_type": "code",
      "metadata": {
        "id": "rxHwUskzpY5h"
      },
      "source": [
        "model_accuracy.append(clf_mlp.score(x_test,y_test))\n",
        "model_f1_score.append(f1_score(y_test, y_pred_mlp))\n",
        "model_cvs.append(scores_mlp.mean())"
      ],
      "execution_count": null,
      "outputs": []
    },
    {
      "cell_type": "markdown",
      "metadata": {
        "id": "SivCidTT9ogQ"
      },
      "source": [
        "MLP classifier on standardized data"
      ]
    },
    {
      "cell_type": "code",
      "metadata": {
        "id": "0QFpUemY6cXs",
        "colab": {
          "base_uri": "https://localhost:8080/"
        },
        "outputId": "1065d413-c856-4869-d148-67f99c2b81e4"
      },
      "source": [
        "clf_mlp.fit(x_train_lda, y_train_lda)\n",
        "y_pred_mlp_lda=clf_mlp.predict(x_test_lda)\n",
        "scores_mlp_stand = cross_val_score(clf_mlp, x_train_lda, y_train_lda, cv=5)\n",
        "print(\"F1 score for standardize data from MLP :\", f1_score(y_test_lda, y_pred_mlp_lda))\n",
        "print(\"Accuracy for standardize data from MLP model: \", clf_mlp.score(x_test_lda,y_test_lda))\n",
        "print(\"CVS for standardize data from MLP model: \",scores_mlp_stand.mean())"
      ],
      "execution_count": null,
      "outputs": [
        {
          "output_type": "stream",
          "text": [
            "F1 score for standardize data from MLP : 0.9662447257383966\n",
            "Accuracy for standardize data from MLP model:  0.9778085991678225\n",
            "CVS for standardize data from MLP model:  0.9839556145711377\n"
          ],
          "name": "stdout"
        }
      ]
    },
    {
      "cell_type": "code",
      "metadata": {
        "id": "O7qK1X9vVdHn"
      },
      "source": [
        "clf_predict = clf_mlp.predict(mask_dataset_lda_test)"
      ],
      "execution_count": null,
      "outputs": []
    },
    {
      "cell_type": "code",
      "metadata": {
        "id": "yrrfmgA2rCcC"
      },
      "source": [
        "model_accuracy_with_std_data.append(clf_mlp.score(x_test_lda,y_test_lda))\n",
        "model_f1_score_with_std_data.append(f1_score(y_test_lda, y_pred_mlp_lda))\n",
        "model_cvs_with_std_data.append(scores_mlp_stand.mean())"
      ],
      "execution_count": null,
      "outputs": []
    },
    {
      "cell_type": "markdown",
      "metadata": {
        "id": "lpST9s8kS-jY"
      },
      "source": [
        "Gaussian Bayes Classifier on non standardized data"
      ]
    },
    {
      "cell_type": "code",
      "metadata": {
        "id": "vuabG02A_L2u",
        "colab": {
          "base_uri": "https://localhost:8080/"
        },
        "outputId": "627344c9-e7f7-46d2-b67b-5dd594e07ba7"
      },
      "source": [
        "from sklearn.naive_bayes import GaussianNB\n",
        "gnb = GaussianNB()\n",
        "gnb.fit(x_train, y_train)\n",
        "y_pred_gnb=gnb.predict(x_test)\n",
        "scores_gnb = cross_val_score(gnb, x_train, y_train, cv=5)\n",
        "print(\"F1 score for non-standardize data from GNB :\", f1_score(y_test, y_pred_gnb))\n",
        "print(\"Accuracy for non-standardize data from GNB model: \", gnb.score(x_test,y_test))\n",
        "print(\"CVS for non-standardize data from GNB model: \",scores_gnb.mean())"
      ],
      "execution_count": null,
      "outputs": [
        {
          "output_type": "stream",
          "text": [
            "F1 score for non-standardize data from GNB : 0.7336244541484717\n",
            "Accuracy for non-standardize data from GNB model:  0.8307905686546463\n",
            "CVS for non-standardize data from GNB model:  0.8247471610649457\n"
          ],
          "name": "stdout"
        }
      ]
    },
    {
      "cell_type": "code",
      "metadata": {
        "id": "GA4t4zZ5r0_p"
      },
      "source": [
        "model_accuracy.append(gnb.score(x_test,y_test))\n",
        "model_f1_score.append(f1_score(y_test, y_pred_gnb))\n",
        "model_cvs.append(scores_gnb.mean())"
      ],
      "execution_count": null,
      "outputs": []
    },
    {
      "cell_type": "markdown",
      "metadata": {
        "id": "bYTMtex3raSL"
      },
      "source": [
        "Gaussian Bayes Classifier on standardized data"
      ]
    },
    {
      "cell_type": "code",
      "metadata": {
        "id": "Q3DF5_TYOGre",
        "colab": {
          "base_uri": "https://localhost:8080/"
        },
        "outputId": "40dd5f79-8da6-429f-da45-6ae32b1916d7"
      },
      "source": [
        "gnb.fit(x_train_lda, y_train_lda)\n",
        "y_pred_gnb_lda=gnb.predict(x_test_lda)\n",
        "scores_gnb_stand = cross_val_score(gnb, x_train, y_train, cv=5)\n",
        "print(\"F1 score for standardize data from GNB :\", f1_score(y_test_lda, y_pred_gnb_lda))\n",
        "print(\"Accuracy for standardize data from GNB model: \", gnb.score(x_test_lda,y_test_lda))\n",
        "print(\"CVS for standardize data from MLP model: \",scores_gnb_stand.mean())"
      ],
      "execution_count": null,
      "outputs": [
        {
          "output_type": "stream",
          "text": [
            "F1 score for standardize data from GNB : 0.9661016949152542\n",
            "Accuracy for standardize data from GNB model:  0.9778085991678225\n",
            "CVS for standardize data from MLP model:  0.8247471610649457\n"
          ],
          "name": "stdout"
        }
      ]
    },
    {
      "cell_type": "code",
      "metadata": {
        "id": "JiSJF89hVopR"
      },
      "source": [
        "gnb_predict = gnb.predict(mask_dataset_lda_test)"
      ],
      "execution_count": null,
      "outputs": []
    },
    {
      "cell_type": "code",
      "metadata": {
        "id": "IJZPI1xfrUb5"
      },
      "source": [
        "model_accuracy_with_std_data.append(gnb.score(x_test_lda,y_test_lda))\n",
        "model_f1_score_with_std_data.append(f1_score(y_test_lda, y_pred_gnb_lda))\n",
        "model_cvs_with_std_data.append(scores_gnb_stand.mean())"
      ],
      "execution_count": null,
      "outputs": []
    },
    {
      "cell_type": "markdown",
      "metadata": {
        "id": "MidZDJoL8ku_"
      },
      "source": [
        "Comparison"
      ]
    },
    {
      "cell_type": "code",
      "metadata": {
        "id": "8S1uhs--8kKd",
        "colab": {
          "base_uri": "https://localhost:8080/",
          "height": 295
        },
        "outputId": "dc5d94b7-29b6-4ccb-b4bd-0b98c02cbe3f"
      },
      "source": [
        "import matplotlib.pyplot as plt\n",
        "plt.plot(model,model_accuracy)\n",
        "plt.title(\"Model v/s Accuracy\")\n",
        "plt.xlabel(\"Model\")\n",
        "plt.ylabel(\"Accuracy\")\n",
        "plt.show()"
      ],
      "execution_count": null,
      "outputs": [
        {
          "output_type": "display_data",
          "data": {
            "image/png": "[encoded data removed]",
            "text/plain": [
              "<Figure size 432x288 with 1 Axes>"
            ]
          },
          "metadata": {
            "tags": [],
            "needs_background": "light"
          }
        }
      ]
    },
    {
      "cell_type": "code",
      "metadata": {
        "id": "5Fa3cnhdgwhK",
        "colab": {
          "base_uri": "https://localhost:8080/",
          "height": 295
        },
        "outputId": "2b090617-5af7-4a8a-ba5d-5761ab59fa31"
      },
      "source": [
        "import matplotlib.pyplot as plt\n",
        "plt.plot(model,model_accuracy_with_std_data)\n",
        "plt.title(\"Model v/s Accuracy_with_std_data\")\n",
        "plt.xlabel(\"Model\")\n",
        "plt.ylabel(\"Accuracy_with_std_data\")\n",
        "plt.show()"
      ],
      "execution_count": null,
      "outputs": [
        {
          "output_type": "display_data",
          "data": {
            "image/png": "[encoded data removed]",
            "text/plain": [
              "<Figure size 432x288 with 1 Axes>"
            ]
          },
          "metadata": {
            "tags": [],
            "needs_background": "light"
          }
        }
      ]
    },
    {
      "cell_type": "code",
      "metadata": {
        "id": "lWXSIlxTeZA6",
        "colab": {
          "base_uri": "https://localhost:8080/",
          "height": 295
        },
        "outputId": "e2024f7d-d29c-4aed-897e-0ccb508a7aaa"
      },
      "source": [
        "import matplotlib.pyplot as plt\n",
        "plt.plot(model,model_f1_score)\n",
        "plt.title(\"Model v/s F1_score\")\n",
        "plt.xlabel(\"Model\")\n",
        "plt.ylabel(\"F1_score\")\n",
        "plt.show()"
      ],
      "execution_count": null,
      "outputs": [
        {
          "output_type": "display_data",
          "data": {
            "image/png": "[encoded data removed]",
            "text/plain": [
              "<Figure size 432x288 with 1 Axes>"
            ]
          },
          "metadata": {
            "tags": [],
            "needs_background": "light"
          }
        }
      ]
    },
    {
      "cell_type": "code",
      "metadata": {
        "id": "vh41o2yY-MaN",
        "colab": {
          "base_uri": "https://localhost:8080/",
          "height": 295
        },
        "outputId": "25284432-7658-4bfc-be7e-e5298e714b4e"
      },
      "source": [
        "import matplotlib.pyplot as plt\n",
        "plt.plot(model,model_f1_score_with_std_data)\n",
        "plt.title(\"Model v/s F1_score_with_std_data\")\n",
        "plt.xlabel(\"Model\")\n",
        "plt.ylabel(\"F1_score_with_std_data\")\n",
        "plt.show()"
      ],
      "execution_count": null,
      "outputs": [
        {
          "output_type": "display_data",
          "data": {
            "image/png": "[encoded data removed]",
            "text/plain": [
              "<Figure size 432x288 with 1 Axes>"
            ]
          },
          "metadata": {
            "tags": [],
            "needs_background": "light"
          }
        }
      ]
    },
    {
      "cell_type": "code",
      "metadata": {
        "id": "hAb6gPVa-bVi",
        "colab": {
          "base_uri": "https://localhost:8080/",
          "height": 295
        },
        "outputId": "c868e9a0-7dd9-4370-c044-8d0ecc9a4572"
      },
      "source": [
        "import matplotlib.pyplot as plt\n",
        "plt.plot(model,model_cvs)\n",
        "plt.title(\"Model v/s Cross_val_score\")\n",
        "plt.xlabel(\"Model\")\n",
        "plt.ylabel(\"Cross_val_score\")\n",
        "plt.show()"
      ],
      "execution_count": null,
      "outputs": [
        {
          "output_type": "display_data",
          "data": {
            "image/png": "[encoded data removed]",
            "text/plain": [
              "<Figure size 432x288 with 1 Axes>"
            ]
          },
          "metadata": {
            "tags": [],
            "needs_background": "light"
          }
        }
      ]
    },
    {
      "cell_type": "code",
      "metadata": {
        "id": "ofgTxlhWAjh4",
        "colab": {
          "base_uri": "https://localhost:8080/",
          "height": 295
        },
        "outputId": "09b91274-4b9c-44a2-b299-a993b3e45a65"
      },
      "source": [
        "import matplotlib.pyplot as plt\n",
        "plt.plot(model,model_cvs_with_std_data)\n",
        "plt.title(\"Model v/s Cross_val_score_with_std_data\")\n",
        "plt.xlabel(\"Model\")\n",
        "plt.ylabel(\"Cross_val_score_with_std_data\")\n",
        "plt.show()"
      ],
      "execution_count": null,
      "outputs": [
        {
          "output_type": "display_data",
          "data": {
            "image/png": "[encoded data removed]",
            "text/plain": [
              "<Figure size 432x288 with 1 Axes>"
            ]
          },
          "metadata": {
            "tags": [],
            "needs_background": "light"
          }
        }
      ]
    },
    {
      "cell_type": "markdown",
      "metadata": {
        "id": "9rY9WExYV0iG"
      },
      "source": [
        "Test Cases"
      ]
    },
    {
      "cell_type": "code",
      "metadata": {
        "id": "sW9tWjhsV1_F",
        "colab": {
          "base_uri": "https://localhost:8080/"
        },
        "outputId": "aa1f3960-cbf1-405a-d9e0-d4997c29a25f"
      },
      "source": [
        "lr_predict"
      ],
      "execution_count": null,
      "outputs": [
        {
          "output_type": "execute_result",
          "data": {
            "text/plain": [
              "array([1, 1, 1, 1, 1, 0, 0, 0, 0, 0])"
            ]
          },
          "metadata": {
            "tags": []
          },
          "execution_count": 117
        }
      ]
    },
    {
      "cell_type": "code",
      "metadata": {
        "colab": {
          "base_uri": "https://localhost:8080/"
        },
        "id": "YU63PEKtAvhp",
        "outputId": "1b17f682-c938-4925-8019-4aa8d5d11340"
      },
      "source": [
        "clf_predict"
      ],
      "execution_count": null,
      "outputs": [
        {
          "output_type": "execute_result",
          "data": {
            "text/plain": [
              "array([1, 1, 1, 1, 1, 0, 0, 0, 0, 0])"
            ]
          },
          "metadata": {
            "tags": []
          },
          "execution_count": 118
        }
      ]
    },
    {
      "cell_type": "code",
      "metadata": {
        "colab": {
          "base_uri": "https://localhost:8080/"
        },
        "id": "wOPx_F1PAyix",
        "outputId": "255997fc-623b-498b-e0ea-453bad93c2e4"
      },
      "source": [
        "gnb_predict"
      ],
      "execution_count": null,
      "outputs": [
        {
          "output_type": "execute_result",
          "data": {
            "text/plain": [
              "array([1, 1, 1, 1, 1, 0, 0, 0, 0, 0])"
            ]
          },
          "metadata": {
            "tags": []
          },
          "execution_count": 119
        }
      ]
    },
    {
      "cell_type": "code",
      "metadata": {
        "id": "ZruOWdQxXs3c",
        "colab": {
          "base_uri": "https://localhost:8080/"
        },
        "outputId": "028263e1-ac05-4fec-e0e1-75ca00218b57"
      },
      "source": [
        "mask_lab_test"
      ],
      "execution_count": null,
      "outputs": [
        {
          "output_type": "execute_result",
          "data": {
            "text/plain": [
              "[1, 1, 1, 1, 1, 0, 0, 0, 0, 0]"
            ]
          },
          "metadata": {
            "tags": []
          },
          "execution_count": 121
        }
      ]
    }
  ]
}